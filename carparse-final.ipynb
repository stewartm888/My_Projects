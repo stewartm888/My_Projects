{
 "cells": [
  {
   "cell_type": "markdown",
   "metadata": {},
   "source": [
    "# CARS.csv Data Demonstration"
   ]
  },
  {
   "cell_type": "code",
   "execution_count": null,
   "metadata": {},
   "outputs": [],
   "source": [
    "#Import Libraries\n",
    "import pandas as pd\n",
    "import sys\n",
    "from os import listdir\n",
    "import re\n",
    "from collections import Counter\n",
    "import matplotlib.pyplot as plt\n",
    "from googlesearch import search\n",
    "from matplotlib.figure import Figure\n",
    "import numpy as np\n",
    "import webbrowser"
   ]
  },
  {
   "cell_type": "markdown",
   "metadata": {},
   "source": [
    "### Upload CSV File"
   ]
  },
  {
   "cell_type": "code",
   "execution_count": null,
   "metadata": {},
   "outputs": [],
   "source": [
    "rawdf = pd.read_csv('cars.csv')"
   ]
  },
  {
   "cell_type": "markdown",
   "metadata": {},
   "source": [
    "## Cleaning and Exploratory Data Analysis"
   ]
  },
  {
   "cell_type": "markdown",
   "metadata": {},
   "source": [
    "### Summary"
   ]
  },
  {
   "cell_type": "code",
   "execution_count": null,
   "metadata": {},
   "outputs": [],
   "source": [
    "print(\"rows:\",df.shape[0])\n",
    "print(\"field:\",df.shape[1])\n",
    "rawdf.head(10)"
   ]
  },
  {
   "cell_type": "markdown",
   "metadata": {},
   "source": [
    "### Count Nulls"
   ]
  },
  {
   "cell_type": "code",
   "execution_count": null,
   "metadata": {},
   "outputs": [],
   "source": [
    "rawdf.isna().sum()"
   ]
  },
  {
   "cell_type": "markdown",
   "metadata": {},
   "source": [
    "### Are Nulls Clustered in the same rows?"
   ]
  },
  {
   "cell_type": "code",
   "execution_count": null,
   "metadata": {},
   "outputs": [],
   "source": [
    "torquenull_df = rawdf[rawdf.torque.isnull()]\n",
    "print(\"Rows w/ Torque Nulls w/o: Max Power Nulls:\",torquenull_df[torquenull_df.max_power.notnull()].shape[0])\n",
    "print(\"Rows w/ Torque Nulls w/o: Engine Nulls:\",torquenull_df[torquenull_df.engine.notnull()].shape[0])\n",
    "print(\"Rows w/ Torque Nulls w/o: Seats Nulls:\",torquenull_df[torquenull_df.seats.notnull()].shape[0])\n",
    "print(\"Rows w/ Torque Nulls w/o: Mileage Nulls:\",torquenull_df[torquenull_df.mileage.notnull()].shape[0])"
   ]
  },
  {
   "cell_type": "markdown",
   "metadata": {},
   "source": [
    "### Remove Nulls"
   ]
  },
  {
   "cell_type": "code",
   "execution_count": null,
   "metadata": {},
   "outputs": [],
   "source": [
    "df1 = rawdf.dropna()\n",
    "df1.isna().sum()"
   ]
  },
  {
   "cell_type": "code",
   "execution_count": null,
   "metadata": {},
   "outputs": [],
   "source": [
    "print(\"rows:\",df1.shape[0])"
   ]
  },
  {
   "cell_type": "markdown",
   "metadata": {},
   "source": [
    "### Check Field Data Types"
   ]
  },
  {
   "cell_type": "code",
   "execution_count": null,
   "metadata": {},
   "outputs": [],
   "source": [
    "df1.dtypes"
   ]
  },
  {
   "cell_type": "markdown",
   "metadata": {},
   "source": [
    "### Convert Seats from Float into Int"
   ]
  },
  {
   "cell_type": "code",
   "execution_count": null,
   "metadata": {},
   "outputs": [],
   "source": [
    "df2 = df1\n",
    "#df2.loc[df2['seats']] = df2.loc[df2['seats']].astype('Int64')\n",
    "df2 = df2.astype({'seats': 'int64'})\n",
    "df1.dtypes"
   ]
  },
  {
   "cell_type": "markdown",
   "metadata": {},
   "source": [
    "### Convert Mileage from String into Number"
   ]
  },
  {
   "cell_type": "markdown",
   "metadata": {},
   "source": [
    "#### Test Mileage field - be suspicious of Units of Measure (here, \"kmpl\")"
   ]
  },
  {
   "cell_type": "code",
   "execution_count": null,
   "metadata": {},
   "outputs": [],
   "source": [
    "milecheck_df = df2\n",
    "mileage = []  \n",
    "\n",
    "while True:\n",
    "    try:\n",
    "        for values in milecheck_df['mileage']:\n",
    "            mileage.append(re.search(r\"([0-9.]+) kmpl\", values).group(1))\n",
    "        break\n",
    "    except:\n",
    "        print(\"Regex doesn't catch entire field.\")\n",
    "        print(values)\n",
    "        break"
   ]
  },
  {
   "cell_type": "markdown",
   "metadata": {},
   "source": [
    "#### Convert \"km/kg\" to \"kmpl\", convert all results from String to Float, and rename header to include UoM"
   ]
  },
  {
   "cell_type": "code",
   "execution_count": null,
   "metadata": {},
   "outputs": [],
   "source": [
    "# Evidently, 1.4 km/kg = 1 kmpl according to an internet search\n",
    "# https://www.kaggle.com/code/rushikeshhiray/converting-km-kg-to-kmpl/notebook\n",
    "\n",
    "milecheck_df = df2\n",
    "mileage = []  \n",
    "\n",
    "while True:\n",
    "    try:\n",
    "        for values in milecheck_df['mileage']:\n",
    "            raw_mileage = float(re.search(r\"([0-9.]+) (kmpl|km\\/kg)\", values).group(1))\n",
    "            if re.search(r\"([0-9.]+) (kmpl|km\\/kg)\", values).group(2) == \"km/kg\":\n",
    "                raw_mileage /= 1.4\n",
    "            mileage.append(raw_mileage)  \n",
    "        break\n",
    "    except:\n",
    "        print(\"Regex doesn't catch entire field.\")\n",
    "        print(values)\n",
    "        break\n",
    "\n",
    "df3 = df2\n",
    "df3['mileage'] = mileage\n",
    "df3 = df3.rename(columns={\"mileage\": \"mileage (kmpl)\"})\n",
    "df3.head()"
   ]
  },
  {
   "cell_type": "markdown",
   "metadata": {},
   "source": [
    "### Convert Engine from String into Number"
   ]
  },
  {
   "cell_type": "markdown",
   "metadata": {},
   "source": [
    "#### Test Engine field - be suspicious of Units of Measure (here, \"CC\")"
   ]
  },
  {
   "cell_type": "code",
   "execution_count": null,
   "metadata": {},
   "outputs": [],
   "source": [
    "enginecheck_df = df3\n",
    "engine = []  \n",
    "\n",
    "while True:\n",
    "    try:\n",
    "        for values in enginecheck_df['engine']:\n",
    "            engine.append(re.search(r\"([0-9.]+) CC\", values).group(1))\n",
    "        break\n",
    "    except:\n",
    "        print(\"Regex doesn't catch entire field.\")\n",
    "        print(values)\n",
    "        break"
   ]
  },
  {
   "cell_type": "markdown",
   "metadata": {},
   "source": [
    "#### Single UoM present, convert all results from String to Float, and rename header to include UoM"
   ]
  },
  {
   "cell_type": "code",
   "execution_count": null,
   "metadata": {},
   "outputs": [],
   "source": [
    "df4 = df3\n",
    "engine = [float(value) for value in engine]\n",
    "df4['engine'] = engine\n",
    "df4 = df4.rename(columns={\"engine\": \"engine (CC)\"})\n",
    "df4.head()"
   ]
  },
  {
   "cell_type": "markdown",
   "metadata": {},
   "source": [
    "### Convert Max Power from String into Number"
   ]
  },
  {
   "cell_type": "markdown",
   "metadata": {},
   "source": [
    "#### Test Max Power field - be suspicious of Units of Measure (here, \"bhp\")"
   ]
  },
  {
   "cell_type": "code",
   "execution_count": null,
   "metadata": {},
   "outputs": [],
   "source": [
    "powercheck_df = df4\n",
    "power = []  \n",
    "\n",
    "while True:\n",
    "    try:\n",
    "        for values in powercheck_df['max_power']:\n",
    "            power.append(re.search(r\"([0-9.]+) bhp\", values).group(1))\n",
    "        break\n",
    "    except:\n",
    "        print(\"Regex doesn't catch entire field.\")\n",
    "        print(values)\n",
    "        break"
   ]
  },
  {
   "cell_type": "markdown",
   "metadata": {},
   "source": [
    "#### Single UoM present, convert all results from String to Float, and rename header to include UoM"
   ]
  },
  {
   "cell_type": "code",
   "execution_count": null,
   "metadata": {},
   "outputs": [],
   "source": [
    "df5 = df4\n",
    "power = [float(value) for value in power]\n",
    "df5['max_power'] = power\n",
    "df5 = df5.rename(columns={\"max_power\": \"max_power (bhp)\"})\n",
    "df5.head()"
   ]
  },
  {
   "cell_type": "markdown",
   "metadata": {},
   "source": [
    "### Parse Torque"
   ]
  },
  {
   "cell_type": "markdown",
   "metadata": {},
   "source": [
    "#### Inspect sample to find format variants"
   ]
  },
  {
   "cell_type": "code",
   "execution_count": null,
   "metadata": {},
   "outputs": [],
   "source": [
    "for x in df5['torque'][:30]:\n",
    "    print(x)"
   ]
  },
  {
   "cell_type": "markdown",
   "metadata": {},
   "source": [
    "#### Test regex to ensure it catches all formats and convert KGMs to NMs"
   ]
  },
  {
   "cell_type": "code",
   "execution_count": null,
   "metadata": {},
   "outputs": [],
   "source": [
    "# 1 kilogram-meter (kgm) = 9.80665 Newtom-meters (nm)\n",
    "\n",
    "torque_df = df5\n",
    "torque,rpm = [],[]\n",
    "\n",
    "for values in torque_df['torque']:\n",
    "    if re.search(r\"([0-9.]+)[ ]*[NnMm]+[ ]*[@]*[at]*[ ]+([\\-0-9.~]+)[ rpm]*\", values) is not None:\n",
    "        torque.append(float(re.search(r\"([0-9.]+)[ ]*[NnMm]+[ ]*[@]*[at]*[ ]+([\\-0-9.~]+)[ rpm]*\", values).group(1)))\n",
    "        rpm.append(re.search(r\"([0-9.]+)[ ]*[NnMm]+[ ]*[@]*[at]*[ ]+([\\-0-9.~]+)[ rpm]*\", values).group(2))\n",
    "    elif re.search(r\"([0-9.]+)[ ]*[KkGgMm]*[ ]*[@]*[at]*[ ]+([\\-0-9.~,]+)[ RrPpMm]*\",values) is not None:\n",
    "        torval = re.search(r\"([0-9.]+)[ ]*[KkGgMm]*[ ]*[@]*[at]*[ ]+([\\-0-9.~,]+)[ RrPpMm]*\", values).group(1)\n",
    "        multiple = 9.80665 * float(torval) \n",
    "        torque.append(multiple)\n",
    "        newrpm = re.search(r\"([0-9.]+)[ ]*[KkGgMm]*[ ]*[@]*[at]*[ ]+([\\-0-9.~,]+)[ RrPpMm]*\",values).group(2)\n",
    "        rpm.append(newrpm)\n",
    "        #print(values,\"org torque:\",torval,\"math torque:\",multiple,\"rpm:\",newrpm)\n",
    "    elif re.search(r\"([0-9.]+)Nm\\([0-9.]+kgm\\)@ ([0-9.]+)rpm\", values) is not None:\n",
    "        torque.append(float(re.search(r\"([0-9.]+)Nm\\([0-9.]+kgm\\)@ ([0-9.]+)rpm\", values).group(1)))\n",
    "        rpm.append(re.search(r\"([0-9.]+)Nm\\([0-9.]+kgm\\)@ ([0-9.]+)rpm\", values).group(2))\n",
    "    elif re.search(r\"([0-9.]+) Nm \\/([0-9.]+) rpm\", values) is not None:\n",
    "        torque.append(float(re.search(r\"([0-9.]+) Nm \\/([0-9.]+) rpm\", values).group(1)))\n",
    "        rpm.append(re.search(r\"([0-9.]+) Nm \\/([0-9.]+) rpm\", values).group(2))\n",
    "    elif re.search(r\"([0-9.]+)\\([0-9.]+\\)@ ([0-9.]+)\", values) is not None:\n",
    "        torque.append(float(re.search(r\"([0-9.]+)\\([0-9.]+\\)@ ([0-9.]+)\", values).group(1)))\n",
    "        rpm.append(re.search(r\"([0-9.]+)\\([0-9.]+\\)@ ([0-9.]+)\", values).group(2)) \n",
    "    elif re.search(r\"([0-9.]+) \\/ ([0-9.]+)\", values) is not None:\n",
    "        torque.append(float(re.search(r\"([0-9.]+) \\/ ([0-9.]+)\", values).group(1)))\n",
    "        rpm.append(re.search(r\"([0-9.]+) \\/ ([0-9.]+)\", values).group(2))\n",
    "    elif re.search(r\"([0-9.]+)Nm\", values) is not None:\n",
    "        torque.append(float(re.search(r\"([0-9.]+)Nm\", values).group(1)))\n",
    "        rpm.append(\"Unknown\")            \n",
    "    else:\n",
    "        print(values)\n",
    "    torque = [round(value) for value in torque]"
   ]
  },
  {
   "cell_type": "code",
   "execution_count": null,
   "metadata": {},
   "outputs": [],
   "source": [
    "df6 = df5\n",
    "df6['torque'] = torque\n",
    "df6['rpm'] = rpm\n",
    "df6 = df6.rename(columns={\"torque\": \"torque (nm)\"})\n",
    "df6.head()"
   ]
  },
  {
   "cell_type": "markdown",
   "metadata": {},
   "source": [
    "### Replace Name Field with Make and Model Fields"
   ]
  },
  {
   "cell_type": "code",
   "execution_count": null,
   "metadata": {},
   "outputs": [],
   "source": [
    "make,model = [],[]    \n",
    "for values in df6['name']:\n",
    "    make.append(re.search(r\"([a-zA-Z0-9\\-]*)[' ']([a-zA-Z0-9\\-\\.\\(\\) ]*)\", values).group(1))\n",
    "    model.append(re.search(r\"([a-zA-Z0-9\\-]*)[' ']([a-zA-Z0-9\\-\\.\\(\\) ]*)\", values).group(2))\n",
    "df7 = df6\n",
    "df7['make'],df7['model'] = make,model\n",
    "\n",
    "df7 = df7.drop(['name'],axis=1)\n",
    "\n",
    "cols = df7.columns.tolist()\n",
    "cols = cols[-2:] + cols[:-2]\n",
    "df7 = df7[cols]\n",
    "df7.head(5)"
   ]
  },
  {
   "cell_type": "markdown",
   "metadata": {},
   "source": [
    "### Count of Unique Values Per Field"
   ]
  },
  {
   "cell_type": "code",
   "execution_count": null,
   "metadata": {},
   "outputs": [],
   "source": [
    "#End of Cleaning; final df\n",
    "df = df7\n",
    "\n",
    "print(df.nunique())"
   ]
  },
  {
   "cell_type": "markdown",
   "metadata": {},
   "source": [
    "### List Unique Values for Fields with <100 Uniques (Ordered by Counts)"
   ]
  },
  {
   "cell_type": "code",
   "execution_count": null,
   "metadata": {},
   "outputs": [],
   "source": [
    "for (colname,coldata) in df.iteritems():\n",
    "    if len(coldata.unique()) < 100:\n",
    "        print(colname.upper()+\"  /  COUNT\")\n",
    "        print(df[colname].value_counts())            \n",
    "        print(\"\\n\",\"-\"*100,\"\\n\")"
   ]
  },
  {
   "cell_type": "markdown",
   "metadata": {},
   "source": [
    "### Assorted Plots"
   ]
  },
  {
   "cell_type": "markdown",
   "metadata": {},
   "source": [
    "#### Make - Bar Plot"
   ]
  },
  {
   "cell_type": "code",
   "execution_count": null,
   "metadata": {},
   "outputs": [],
   "source": [
    "colname = 'make'\n",
    "df[colname].value_counts().plot(kind='bar')\n",
    "plt.style.use('seaborn-muted')\n",
    "plt.rcParams['figure.figsize'] = [22, 8]\n",
    "plt.rc('font', size=12) \n",
    "plt.xticks(rotation=65)\n",
    "plt.title(label = colname.upper(),fontdict={'fontsize': 24})\n",
    "plt.show()"
   ]
  },
  {
   "cell_type": "markdown",
   "metadata": {},
   "source": [
    "#### Seats - Bar Plot"
   ]
  },
  {
   "cell_type": "code",
   "execution_count": null,
   "metadata": {},
   "outputs": [],
   "source": [
    "colname = 'seats'\n",
    "df[colname].value_counts().sort_index().plot(kind='bar')\n",
    "plt.rcParams['figure.figsize'] = [22, 10]\n",
    "plt.xticks(rotation=0)\n",
    "plt.rc('font', size=16) \n",
    "plt.title(label = colname.upper(),fontdict={'fontsize': 24})\n",
    "plt.show()"
   ]
  },
  {
   "cell_type": "markdown",
   "metadata": {},
   "source": [
    "#### Selling Price - Histogram"
   ]
  },
  {
   "cell_type": "code",
   "execution_count": null,
   "metadata": {},
   "outputs": [],
   "source": [
    "colname = 'selling_price'\n",
    "df.hist(column= colname,bins=100)\n",
    "plt.rcParams['figure.figsize'] = [22, 10]\n",
    "plt.title(label = colname.upper(),fontdict={'fontsize': 24})\n",
    "plt.xticks(rotation=45)\n",
    "plt.ticklabel_format(style='sci', axis='x', scilimits=(0,max(df['selling_price'])))\n",
    "plt.show()"
   ]
  },
  {
   "cell_type": "markdown",
   "metadata": {},
   "source": [
    "#### KM Driven - Histogram"
   ]
  },
  {
   "cell_type": "code",
   "execution_count": null,
   "metadata": {},
   "outputs": [],
   "source": [
    "colname = 'km_driven'\n",
    "df.hist(column= colname,bins=100)\n",
    "plt.rcParams['figure.figsize'] = [22, 10]\n",
    "plt.title(label = colname.upper(),fontdict={'fontsize': 24})\n",
    "plt.xticks(rotation=45)\n",
    "plt.show()"
   ]
  },
  {
   "cell_type": "markdown",
   "metadata": {},
   "source": [
    "#### Year - Histogram"
   ]
  },
  {
   "cell_type": "code",
   "execution_count": null,
   "metadata": {},
   "outputs": [],
   "source": [
    "colname = 'year'\n",
    "df.hist(column= colname,bins=40)\n",
    "plt.rcParams['figure.figsize'] = [22, 10]\n",
    "plt.title(label = colname.upper(),fontdict={'fontsize': 24})\n",
    "plt.show()\n",
    "\n",
    "#vals = df[df['server'].isin([1,3])].groupby(['court'])['speed'].mean().to_frame()"
   ]
  },
  {
   "cell_type": "markdown",
   "metadata": {},
   "source": [
    "### Averages of numeric fields by Make"
   ]
  },
  {
   "cell_type": "code",
   "execution_count": null,
   "metadata": {},
   "outputs": [],
   "source": [
    "averages_df = df.groupby(['make']).mean().round(2)\n",
    "averages_df"
   ]
  },
  {
   "cell_type": "markdown",
   "metadata": {},
   "source": [
    "### Statistical Summary for Numeric Fields"
   ]
  },
  {
   "cell_type": "code",
   "execution_count": null,
   "metadata": {},
   "outputs": [],
   "source": [
    "df.describe().apply(lambda s: s.apply('{0:.0f}'.format))"
   ]
  },
  {
   "cell_type": "markdown",
   "metadata": {},
   "source": [
    "## Seating Capacity Analysis"
   ]
  },
  {
   "cell_type": "markdown",
   "metadata": {},
   "source": [
    "### List of Cars with Exceptional Seat Capacity (cars with more than eight seats)"
   ]
  },
  {
   "cell_type": "code",
   "execution_count": null,
   "metadata": {},
   "outputs": [],
   "source": [
    "pd.set_option('display.max_rows', None)\n",
    "hi_seats = df6[df6[\"seats\"] > 8].filter(items=['name', 'seats']).sort_values('seats', ascending=False)\n",
    "hi_seats = hi_seats.drop_duplicates()\n",
    "\n",
    "hi_seats"
   ]
  },
  {
   "cell_type": "markdown",
   "metadata": {},
   "source": [
    "### Google searches for largest seating vehicles (Top 5 cars, top 3 Google results)"
   ]
  },
  {
   "cell_type": "code",
   "execution_count": null,
   "metadata": {},
   "outputs": [],
   "source": [
    "for car in hi_seats['name'][:5]:\n",
    "    print(car.upper())\n",
    "    for j in search(car, tld=\"co.in\", stop=3):\n",
    "        print(j)\n",
    "    print(\"\\n\")"
   ]
  },
  {
   "cell_type": "markdown",
   "metadata": {},
   "source": [
    "### Open first browser tabs for top three large-seat cars"
   ]
  },
  {
   "cell_type": "code",
   "execution_count": null,
   "metadata": {},
   "outputs": [],
   "source": [
    "for car in hi_seats['name'][:3]:\n",
    "    print(car.upper())\n",
    "    for site in search(car, tld=\"co.in\", stop=1):\n",
    "        webbrowser.open(site)"
   ]
  },
  {
   "cell_type": "markdown",
   "metadata": {},
   "source": [
    "## Correlation"
   ]
  },
  {
   "cell_type": "code",
   "execution_count": null,
   "metadata": {},
   "outputs": [],
   "source": [
    "import numpy as np\n",
    "from sklearn.linear_model import LinearRegression\n",
    "\n",
    "correlation_df = df.filter(items=\n",
    "   ['make', 'year','selling_price','km_driven','mileage (kmpl)','engine (CC)','seats'])\n",
    "\n",
    "correlation_df.head()"
   ]
  },
  {
   "cell_type": "code",
   "execution_count": null,
   "metadata": {},
   "outputs": [],
   "source": [
    "correlations = correlation_df.corr()\n",
    "\n",
    "correlations"
   ]
  },
  {
   "cell_type": "code",
   "execution_count": null,
   "metadata": {},
   "outputs": [],
   "source": [
    "%matplotlib inline\n",
    "import seaborn as sns\n",
    "from matplotlib.pyplot import figure\n",
    "figure(figsize=(16, 12), dpi=80)\n",
    "#plt.rcParams['figure.figsize'] = [1, 1]\n",
    "plt.yticks(rotation=45)\n",
    "#plt.xticks(rotation = 45)\n",
    "\n",
    "sns.heatmap(correlations)\n",
    "plt.title(label = 'CORRELATIONS',fontdict={'fontsize': 16})\n",
    "\n",
    "plt.show()"
   ]
  }
 ],
 "metadata": {
  "kernelspec": {
   "display_name": "Python 3",
   "language": "python",
   "name": "python3"
  },
  "language_info": {
   "codemirror_mode": {
    "name": "ipython",
    "version": 3
   },
   "file_extension": ".py",
   "mimetype": "text/x-python",
   "name": "python",
   "nbconvert_exporter": "python",
   "pygments_lexer": "ipython3",
   "version": "3.7.4"
  }
 },
 "nbformat": 4,
 "nbformat_minor": 4
}
